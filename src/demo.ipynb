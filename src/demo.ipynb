{
 "cells": [
  {
   "cell_type": "markdown",
   "metadata": {},
   "source": [
    "# Forensic Reconstruction of Severely Degraded License Plates"
   ]
  },
  {
   "cell_type": "code",
   "execution_count": null,
   "metadata": {},
   "outputs": [],
   "source": [
    "%matplotlib notebook\n",
    "from matplotlib import rc\n",
    "import matplotlib.pyplot as plt\n",
    "import matplotlib.gridspec as gridspec\n",
    "from ipywidgets import interact, IntSlider, Layout\n",
    "from utils import visualize_predictions\n",
    "from model import LicensePlatesCNN\n",
    "from skimage import img_as_float\n",
    "from imageio import imread\n",
    "import tensorflow as tf\n",
    "from glob import glob\n",
    "import numpy as np\n",
    "import string\n",
    "import h5py\n",
    "import re\n",
    "\n",
    "\n",
    "# Insert path to trained weights here\n",
    "checkpoint_dir = \"../model/checkpoint\"\n",
    "summary_dir = \"../model/summary\"\n",
    "\n",
    "# Path to test images\n",
    "test_files = sorted(glob(\"../imgs/*.png\"), reverse=True)\n",
    "\n",
    "# Set up font\n",
    "rc('font', **{'family': 'serif', 'serif': ['Times'], 'size': 11})\n",
    "rc('text', usetex=True)\n",
    "params = {'text.latex.preamble': [r\"\\usepackage{amsmath}\", r\"\\usepackage{bm}\"]}\n",
    "plt.rcParams.update(params)"
   ]
  },
  {
   "cell_type": "markdown",
   "metadata": {},
   "source": [
    "Initialize network and load trained weights."
   ]
  },
  {
   "cell_type": "code",
   "execution_count": null,
   "metadata": {},
   "outputs": [],
   "source": [
    "sess = tf.compat.v1.InteractiveSession()\n",
    "cnn = LicensePlatesCNN(sess, checkpoint_dir, summary_dir)\n",
    "cnn.load();"
   ]
  },
  {
   "cell_type": "markdown",
   "metadata": {},
   "source": [
    "Run inference and visualize predictions."
   ]
  },
  {
   "cell_type": "code",
   "execution_count": null,
   "metadata": {},
   "outputs": [],
   "source": [
    "fig = plt.figure(figsize=(9, 2.2))\n",
    "gs = gridspec.GridSpec(1, 2, width_ratios=[1, 2])\n",
    "img_ax = plt.subplot(gs[0, 0])\n",
    "img_ax.set_title(\"License plate\")\n",
    "img_ax.axis(\"off\")\n",
    "prob_ax = plt.subplot(gs[0, 1])\n",
    "prob_ax.set_title(\"Top-5 probabilities for all seven output positions\")\n",
    "fig.tight_layout(rect=[0, 0.03, 1, 0.90])\n",
    "\n",
    "def display_result(test_file_idx):\n",
    "    test_filename = test_files[test_file_idx]\n",
    "    # Load and display image\n",
    "    img = img_as_float(imread(test_filename))\n",
    "    img_ax.imshow(img)\n",
    "    \n",
    "    char_labels = None\n",
    "    suptitle = \"\"\n",
    "    # Extract license number, resolution, and noise level from filename\n",
    "    match = re.search(\"license_number_([A-Z0-9]+)_resolution_([0-9]+)_noise_SNR_db_([-+]?[0-9]*\\.?[0-9]+)\", test_filename)\n",
    "    if match is not None:\n",
    "        license_number = match.group(1)\n",
    "        resolution = int(match.group(2))\n",
    "        noise_SNR_db = float(match.group(3))\n",
    "        suptitle = \"Correct license number: {}, Resolution: {:d}, Noise: {:2.1f} dB\".format(license_number, resolution, noise_SNR_db)\n",
    "\n",
    "        # Convert license number extracted from filename to one-hot encoded label vector\n",
    "        char_labels = np.zeros((7, 37))\n",
    "        all_chars = string.ascii_uppercase + string.digits + \"_\"\n",
    "        # One-hot encode characters\n",
    "        for i in range(len(license_number)):\n",
    "            char_labels[i, all_chars.index(license_number[i])] = 1\n",
    "        # For the remaining positions set the `no char` label\n",
    "        for i in range(len(license_number), 7):\n",
    "            char_labels[i, 36] = 1\n",
    "    \n",
    "    # Feed batch containing the single image to network\n",
    "    char_predictions = cnn.inference(img[None, :])[0]\n",
    "    # Visualize predictions\n",
    "    visualize_predictions(prob_ax, char_predictions, char_labels)\n",
    "    # Set figure title\n",
    "    fig.suptitle(suptitle)\n",
    "\n",
    "interact(display_result, test_file_idx=IntSlider(min=0, max=len(test_files) - 1, continuous_update=False, description=\"Sample\", layout=Layout(width=\"100%\")));"
   ]
  },
  {
   "cell_type": "markdown",
   "metadata": {
    "collapsed": true
   },
   "source": [
    "## Instructions\n",
    "\n",
    "* Use slider to select sample from data directory."
   ]
  },
  {
   "cell_type": "code",
   "execution_count": null,
   "metadata": {},
   "outputs": [],
   "source": []
  }
 ],
 "metadata": {
  "kernelspec": {
   "display_name": "Python 3",
   "language": "python",
   "name": "python3"
  },
  "language_info": {
   "codemirror_mode": {
    "name": "ipython",
    "version": 3
   },
   "file_extension": ".py",
   "mimetype": "text/x-python",
   "name": "python",
   "nbconvert_exporter": "python",
   "pygments_lexer": "ipython3",
   "version": "3.5.2"
  }
 },
 "nbformat": 4,
 "nbformat_minor": 2
}
